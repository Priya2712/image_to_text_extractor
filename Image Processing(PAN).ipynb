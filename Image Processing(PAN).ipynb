{
 "cells": [
  {
   "cell_type": "code",
   "execution_count": 48,
   "metadata": {},
   "outputs": [],
   "source": [
    "from PIL import Image\n",
    "from pytesseract import image_to_string\n",
    "import cv2\n",
    "import os"
   ]
  },
  {
   "cell_type": "code",
   "execution_count": 49,
   "metadata": {},
   "outputs": [],
   "source": [
    "def process(x):\n",
    "    list = os.listdir(x)\n",
    "    n= len(list)\n",
    "    c=1\n",
    "    for i in range(n):\n",
    "        img_obj=cv2.imread(x+\"\\img\"+str(c)+\".jpg\")\n",
    "        gray=cv2.cvtColor(img_obj, cv2.COLOR_BGR2GRAY)\n",
    "        cv2.imwrite(x+\"\\processed\"+\"\\proc\"+str(c)+\".jpg\",gray)\n",
    "        c=c+1\n",
    "process(r\"C:\\Users\\saipriya\\Desktop\\task\\taskPAN_Photo\")"
   ]
  },
  {
   "cell_type": "code",
   "execution_count": 50,
   "metadata": {},
   "outputs": [],
   "source": [
    "l=[]\n",
    "def read(x):\n",
    "    list = os.listdir(x)\n",
    "    n= len(list)\n",
    "    c=1\n",
    "    for i in range(n):\n",
    "        img=Image.open(x+\"\\proc\"+str(c)+\".jpg\")\n",
    "        temp=image_to_string(img)\n",
    "        l.append(temp)\n",
    "        c=c+1\n",
    "read(r\"C:\\Users\\saipriya\\Desktop\\task\\taskPAN_Photo\\processed\")"
   ]
  },
  {
   "cell_type": "code",
   "execution_count": 51,
   "metadata": {},
   "outputs": [
    {
     "data": {
      "text/plain": [
       "['sree feast AA Wee\\nINCOME TAX DEPARTMENT & GOVT. OF INDIA\\n\\nRABARI DINESHBHAL\\n\\n \\n\\nfsa ar’ ae\\nSABABHAI RABARI\\n\\n> rome\\nee ‘Tetras',\n",
       " '*\\n\\naeagea efvecmemag -\\nLL0€ SZOS Z9LS\\n\\naew / 2Ee\\n\\nOR61/LO/Pe : BO / ROELE “PR\\nAnoys eyynwueys © : Jeued\\nha emp @: Now\\n\\n“© Ayunyw sequeys\\n\\n \\n\\no SP = 2 nee e\\n5 imps allie at as ay',\n",
       " '',\n",
       " '=)\\ni\\n2\\n\\n|\\n2\\n!\\ni',\n",
       " '+4 &\\n\\nWR Uae\\n\\n   \\n\\nSon\\n\\noan S GOVT. OF INDIA »\\n\"” GGOVINDARAJU fe\\n~. GOVINDAIAH -\\n16/01/1980 is\\nrs :\\nPemifent Account Number a\\nBFPPG5209G ‘\\n\\n  \\n    \\n\\n   \\n\\ni BAI\\n\\nSignature',\n",
       " 'And Ate ==\\n\\nJME TAX DEPARTMEN GOVT. OF INDIA =\\n\\n    \\n     \\n   \\n    \\n     \\n\\nSANJAY PATHAK\\nBALWANTA ACHHUTA PATHAK\\n\\n02/10/1973\\n\\nPermanent Account N\\n\\nBFDPP7756K',\n",
       " 'fararst Gg wa wer\\nTNCOME TAX DEPARTMENT @ GOVT.OF INDIA\\nSANJAY KUMAR SINGH\\n\\nKAMAL KISHOR SINGH\\n2010/1975\\n\\nPermanent Account Number .',\n",
       " 'APP AMAA OP\\n\\nSram ~\\nmabe ay / tam ow Se gid\\n\\noe\\n\\n  \\n\\n7793 8244 7985\\n. Sooo - ean. CQzeo\\n\\n \\n\\n \\n\\n \\n\\na',\n",
       " '',\n",
       " 'INCOME TAXDEPARTMENT <2) GOVT. OF INDIA\\n| MALLIKARJUNA B\\n\\nBASAVARAJAPPA\\n\\n20/05/1973\\n\\nPermanent Account Numbe\\n\\nCGUPM2543J\\n\\neh\\n\\nSignature',\n",
       " 'V6620Nd4ao © ,\\n\\nJequiny juncoay i\\n\\nFW 83HdWve LirvHays\\n\\na4 NWN LirvHavs Hsarye\\n\\n3\\n‘Dia Dalle',\n",
       " '',\n",
       " 'BLLPJ5759G\\n\\nDate of Birth TRE\\n\\nFe Signature\\n\\na\\n12/06/1988',\n",
       " '',\n",
       " '',\n",
       " '',\n",
       " '_} INCOME TAX DEPARTMENT GOVT. OF INDIA\\nKESHYAP MOHAN THAWANI\\n\\nreat a\\n\\nMOHAN THAWANI\\n\\n27/02/1976\\nPermanent Account Number\\n\\nAGIPT1273E\\n\\n    \\n\\naps',\n",
       " 'ART Ba\\nGOVT. OF INDIA',\n",
       " '',\n",
       " 'GT. * fhgce\\n\\n \\n\\nstax faa\\n\\nINCOME TAX DEPAF\\n\\n          \\n\\n \\n\\nMOEENPASHA MD\\nPEERPASHA\\n\\n10/08/1983\\nPermanent Account Number\\n\\nBKNPP4804P\\n\\nSignature\\n\\nnr een',\n",
       " '',\n",
       " 'sae faant ARa war\\nINCOME TAX DEPARTMENT GOVT. OF INDIA\\nAMOL ARVIND DESAI\\n\\nARVIND RAGHUNATH DESAI\\n13/04/1981\\n\\n  \\n\\nPermanent Account Number',\n",
       " 'INCOMETAK DEPARTMENT = © GOVT. OF INDIA\\nYATIN GOPINATH PEDNEKAR e\\nGOPINATH TUKARAM PEDNEKAR mz\\n05/05/1989\\n\\nPermanent Account Number\\nBIUPP7089R\\n\\na atl 3\\n\\nSignature',\n",
       " '',\n",
       " '',\n",
       " '',\n",
       " 'sraex feast gp Aa We\\nBA INCOMETAXDEPARTMENT «die «| GOVT. OF INDIA\\n— SUSHIL KUMAR JHA\\n\\n4INOD JHA\\n\\n07/05/1975\\n\\nPermanent Ac\\n\\nBBMPJ6093A\\n\\nShaul aren\\n\\nSignature',\n",
       " '',\n",
       " \"ail 4G VoLTE 4\\n\\n \\n\\nRIE\\n\\n \\n\\n \\n\\n@ https://tin-tin.nsdl.com /s| GF) ?:\\n\\n© NSDL\\n\\n‘echlogy, Trt 2 Reach\\n\\n‘Your PAN Application Status\\n\\n \\n\\n‘Acknowledgment Number 049700010423\\n\\n \\n\\nName RAMOOSS MADAN KUMAR\\n\\nCategory inde\\n\\n \\n\\n12s been alloted by Income Tax Department, your PAN card i= under process at NSDL and\\ntheate you shorty\\n\\n   \\n\\nStatus\\n\\n \\n\\ndespa\\n\\nPermanent Account Number\\n(PAN)\\n\\novepma7anc\\n\\n \\n\\n1. PAN card will be despatched only to the communication address provided in your PAN application.\\n\\ntive A tails (item no.14 in Form 494) are mentioned in the application, PAN Card will b\\n\\n \\n\\ndespatch A's addre\\n\\n2. f your communication address has changed, please submit a ‘Request for New PAN Card or/and Changes or Correction in\\nPAN data’ form so that the income Tax Department's database Is updated with your current address.\\n\\n3. Written communication from the Income Tax Department will be directed to the communication address recorded against\\nyour PAN. So to avoid any inconveniences in future, please ensure that your communication address is up-to-date in the\\nIncome Tax Department's database.\\n\\n    \\n\\n \\n\\n \\n\\naack\",\n",
       " '',\n",
       " 're\\n\\n2 | SGSieiiTehtoNnGaEe——\\n\\nehtcleten\\n\\nBe Bweoe/ DOB: 03/06/1963\\n@ooe / MALE\\n\\n  \\n\\n5858 2350 4583\\n\\nAQ So’, sa bs',\n",
       " '',\n",
       " 'Serax faant\\nINCOME TAX DEPARTMENT\\nKIRYAPA\\n\\nUMED SINGH\\n\\n30/11/1992\\n\\nCXGPK6267A',\n",
       " 'rereex FIAT of\\n\\ni\\n\\nCOME TAX DEPARTMENT om\\n\\n.SHOK KATLAPPA BOJJA\\n\\nKATLAPPA BALAPPA BOJJA\\n17/11/1984\\n\\nAJVPB1663J\\nAS\\\\of #_\\n\\nGOVT. OF INDIA',\n",
       " '',\n",
       " 'STS. fas\\nINCOME TAX DEPARTMENT\\nMUTHUSANKAR M\\n\\nMARUTHAPPAPANDIAN\\n\\n17/11/1991\\nPermanent Account Number\\n\\nBXIPMag907L\\n\\nSignature\\n\\n  \\n\\noH. py\\n\\nARG rear\\n\\nGOVT. OF INDIA\\n\\né\\n\\n \\n\\na\\n\\n \\n\\n \\n\\nsap\\n\\n= s\\nbebe',\n",
       " '',\n",
       " 'Gat: S/O: Teeny erat, facts Address: S/O: Kishore Sharma, village\\nTSN, FSET 43, TSA, PPatefl, badesra, Badesra (53), Badesera,\\nERA, 127031 Bhiwani, Haryana, 127031\\n\\n4840 5746 2240\\n\\nMX TT\\nae al “de ini cov.\\n1800 300 1947. @uidai.go www.uidai.gov.in',\n",
       " '',\n",
       " 'ARG Sear\\nGOVT. OF INDIA\\n\\nMOHAMMAD RAFIQUE ANSARI fe\\nKHALIL ANSARI\\n\\n01/01/1992\\n\\nPermanent Acc: —y\\nBGPPA4442) A\\nwiih\\n\\nSignature',\n",
       " '\\\\COME TAX DEPARTMENT GOVT. OF INDIA\\nVIJAY M\\n\\nMURUGESH\\n\\n17/10/1993\\n\\nPermanent A\\n\\nAPRPV1417J\\n\\nByay.\\n\\nSignature\\n\\n41052012',\n",
       " '{INCOME TAX DEPARTMENT\\n: SHRIKISHAN\\n_ 01/01/1975\\n\\n: aeiineden Account Nu bem\\n\\nf 86\\n.\\n\\n \\n\\nSignature',\n",
       " \"Transport Government of Delhi\\nLicence to Drive VehiclesThroughout Indi\\n\\nLicence No. + 1-020 (\\n«SAG MMAR AA oe\\n\\name :\\nsiwiD > BURAM CHAND ARYA\\nBoe: es/asvioes | 86: Be\\nMAST AURANGZED LANE,DELME\\n10011\\n: nuthoreation tsaue\\neen Sashes .\\nGasee®\\n(Holder's Signature)\\nissue Date 93/08/2004 eo\\n$h/o9/2091 coal nal\\n\\n \\n\\n‘a\\nTovcarrWo | WA\",\n",
       " 'cara feat\\nINCOME TAX DEPARTMENT\\nLINGANAND ASTOORE\\n\\nSUBHASH ASTOORE\\n09/14/1995\\n\\njent Account Number\\n\" BvAPAda07R\\n— , “ 2 ——\\n\\n‘Signature\\n\\n \\n\\nAR QaT\\nGOVT. OF INDIA\\n\\n \\n\\n01082016',\n",
       " 'ing Licence No\\nName: Devay',\n",
       " \"Stee fear AR Wer\\nINCOME TAX DEPARTMENT. = GOVT. OF INDIA\\nerideienad\\n\\nPermanent Account Number Card\\n\\nERWPM2528A\\n\\nfrat si ari Father's Name\\n\\nMADAIAH\\n\\naH wt aTttet/ Date of Birth\\n04/01/1986\",\n",
       " 'sree fart; yA Beare\\nINCOME TAX DEPARTMENT as: GOVT. OF INDIA\\nMOHAMMED IMRAN\\n\\n \\n\\nRAFI UDDIN\\n10/12/1988\\n\\nPermanenihiocnn Nunn\\n\\nABZPI27590\\nMohd dmvan\\n\\nSignature',\n",
       " \"DEPARTMENT li GOVT. OF No\\near cheat TOT 1 4 pe =\\n\\nPermanent Account N'\\n\\nCBJPK51(\\n\\nys.\\n\\ngz! Signature\\n\\ni of Birth\",\n",
       " 'INCOME TAX DEPARTMENT ¥ GOVT. OF INDIA\\n\\nScr\\nre\\n=\\noe oe\\nagi NAZIR ABDUL SAYYED SHAIKH\\nact\\nKee\\na\\n%i\\n4\\nare,\\nCire\\na\\n\\nABDUL SHAIKH\\n\\n18/05/1985\\n\\nTae,',\n",
       " '',\n",
       " '2h\\nTHAR AKAR SAVED\\n\\nfers aber tie\\nagar\\n\\n24/03/1',\n",
       " '!QBAL YUSUF SHAIKH\\n\\n|. “23/02/9993\\nPor int Account Number\\n\\nFHJPS4231J',\n",
       " '',\n",
       " 'INCOME TAX DEPARTMENT ay GOVT. OF INDIA\\nAKSHAY CHANDRA R\\n\\n            \\n \\n\\nRAVI CHANDRA PONNAPA ACHARA Se : eA\\nSit ahs Gow *\\n\\n20/02/1997 € s\\n\\nPermanent Account Number é >\\n\\nBYOPA9528 /\\n9\\n\\n  \\n      \\n\\nDuthie',\n",
       " '~\\n\\ndi He\\n\\n  \\n  \\n \\n       \\n\\nji i iii\\n\\n \\n\\n \\n\\n \\n\\n \\n\\n \\n\\n \\n\\n \\n\\n \\n\\n \\n\\n \\n\\n \\n\\n \\n\\n \\n\\n \\n\\n \\n\\n \\n\\n \\n\\n \\n\\n \\n\\n \\n\\n \\n\\n \\n\\n \\n\\n \\n\\n \\n\\n \\n\\n \\n\\n \\n\\n \\n\\n \\n\\n \\n\\n \\n\\n \\n\\n \\n\\n \\n\\n \\n\\n \\n\\n \\n\\n \\n\\n \\n\\n \\n\\n \\n\\n \\n\\n \\n\\n \\n\\n \\n\\n \\n\\n \\n\\n \\n\\n \\n\\n \\n\\n \\n\\n \\n\\n \\n\\n \\n\\n \\n\\n \\n\\n \\n\\n \\n\\n \\n\\n \\n\\n \\n\\n \\n\\n \\n\\n \\n\\n \\n\\n \\n\\n \\n\\n \\n\\n \\n\\n \\n\\n \\n\\n \\n\\n \\n\\n \\n\\n \\n\\n \\n\\n \\n\\n \\n\\n \\n\\n \\n\\n \\n\\n \\n\\n \\n\\n \\n\\n \\n\\n \\n\\n \\n\\n \\n\\n \\n\\n \\n\\n \\n\\n \\n\\n \\n\\n \\n\\n \\n\\n \\n\\n \\n\\n \\n\\n \\n\\n \\n\\n \\n\\n \\n\\n \\n\\n \\n\\n \\n\\n \\n\\n \\n\\n \\n\\n \\n\\n \\n\\n \\n\\n \\n\\n \\n\\n \\n\\n \\n\\n \\n\\n \\n\\n \\n\\n \\n\\n \\n\\n \\n\\n \\n\\n \\n\\n \\n\\n \\n\\n \\n\\n \\n\\n \\n\\n \\n\\n \\n\\n \\n\\n \\n\\n \\n\\n \\n\\n \\n\\n \\n\\n \\n\\n \\n\\n \\n\\n \\n\\n \\n\\n \\n\\n \\n\\n \\n\\n \\n\\n \\n\\n \\n\\n \\n\\n \\n\\n \\n\\n \\n\\n \\n\\n \\n\\n \\n\\n \\n\\n \\n\\n \\n\\n \\n\\n \\n\\n \\n\\n \\n\\n \\n\\n \\n\\nva',\n",
       " '',\n",
       " \"6104 1221 3991\\n\\nDH, BHO, Sd, NoOoso\\n\\n \\n\\n8102'90'62 1009\",\n",
       " '',\n",
       " 'INCOME TAX DEPARTMENT & GOVT OF INDIA\\nABHISHEKA\\n\\nRAMAKRISHNE GOWDA\\n\\n04/05/1992\\nPormanamt Account Number',\n",
       " 'Sree fers aR Wee\\nINCOME TAX DEPARTMENT GOVT, OF INDIA\\nSHRIKANT DILIP PAWAR\\n\\nDILIP PANDURANG PAWAR\\n\\n27/08/1986\\n\\nAPLPP2878M\\n\\nKind 9 hem',\n",
       " '',\n",
       " '14/11/1994 BG: U\\n&ddress :\\n&-46 AMBEDKAR COLONY\\nCHATTARPUR,NEW DELHI 110074\\n\\nAuthorisation to Drive Date of Issudit\\n_MYV-NT 26/02/2014\\n\\n26/02/2014\\n25/02/2034\\n-',\n",
       " 'GOVT, OF INDIA\\n\\nAKASH RAY\\n\\nogma/1994\\n\\nAWQPR8506G\\n\\nHg',\n",
       " '/ QENTRAL MOTOR VEHICLES _ }\\na RULES 1080 D/L. NO.; Ru-24/DLG/2005/37822 Date : 06/10/2005\\n\\nName :; TUNA:DAS\\nFORM 7(See Rule 16(2)) Som of: SH.RAM CHANDRA DAS\\n\\n¥ ORIVING LICENCE Address :R/O WARD NO.17\\nPe whe eR i INDUSTRIAL AREA, SIKAR(RAJ.)\\n\\nis licenced to drive throughout India a vehicle of\\nthe folowing description.\\nMCY Wit GEAR,LIGHT MOTOR VEH.\\n\\n     \\n \\n \\n  \\n  \\n   \\n\\n{\\n\\n \\n\\n; Thelicence to drive other than transport vehicle\\nis valid\\n\\nFrom - 06/10/2008 To : 06/10/2025\\n\\n  \\n\\nCietenetrata iw nena en RAL eee Naat + tema A Es Annem antes at jae etmemime era\\n\\\\\\n\\nmh emer tates 4c  46 AR :\\n\\n  \\n   \\n\\nPm cement et saan RE\\n\\n \\n\\nsen Fee\\n\\nere ne\\ncoon zie Rees Se as Rota',\n",
       " \"al re\\nNumber Card\\n\\nJGPPS5217D\\n\\nfort = TH / Father's Name\\nKOTTUR RAMASWAMY SREENATHA\\n\\navy iT nrtrer / Date’ Gt Birth\\n03/09/1963 : whee\\n. . a,\",\n",
       " '',\n",
       " '',\n",
       " 'Byivii S. S34 2vat be iat ipby\\n\\nHONIS INVAVHG\\nSWVN/ balls\\n\\n9+402SdZ9V\\n\\n?_ NASWNN LNNODOY LNANYWu ay) inns',\n",
       " 'a Ara Bvenrw\\n)EPARTMENT = GOVT. OF INDIA\\nABHAKARAN\\n\\nHNAMURTHY CHINNASAMY\\n\\n19/02/1971\\n\\nBHGPK5758R\\n\\nIW',\n",
       " 'sireeee «Tat aa Veet\\nINCOME TAX DEPARTMENT 8 GOVT. OF INDIA\\nRAGUNATH © aa\\nCHANDRASEKARANRANGASWAMY Lig Gp\\nSass:\\n\\n06/01/1976 yr aw2\\n\\nPermanent Account Number\\n\\n~  BJBPR9978P\\n\\nSignature',\n",
       " '',\n",
       " 'arr aH\\n(@APGOVERNMENT OF INDIA\\n\\nqT Talg Tar\\nParag Ravindra Pawat',\n",
       " '',\n",
       " '',\n",
       " 'ra:',\n",
       " '',\n",
       " 'P ASHOKKUMAR\\n\\nPANDETI VENKATA RAJU\\n\\n13/12/1988\\n“Account Number',\n",
       " '',\n",
       " '',\n",
       " 'S DINESH a eae\\n\\n \\n\\nSUBBARAYAN ee oe ee:\\n\\n    \\n\\n¥',\n",
       " '',\n",
       " '2\\n\\n \\n\\nOF INDIA',\n",
       " '',\n",
       " 'STaer faa S Ana\\nINCOME TAX DEPARTMENT ai\\nYUVARAYJ Ss\\n\\nWaT\\nGOVT. OF INDIA\\n\\nSHEKAR\\n\\n14/10/1980\\n\\nPermanent Account Number\\n\\nAEJPY9578A\\n\\n‘Pr: §\\n\\nSignature\\n\\n49012010',\n",
       " 'vianiio1s09 «i wamunavaza WLANOONT',\n",
       " '',\n",
       " 'alid throughout the country |\\nwill be helpful in availing Government\\n\\n      \\n  \\n       \\n\\nand Non-Government services in future \\\\\\n\\nFePaTst gp IR ET oS\\n\\n: = FY-OF NDIA\\nPa GOVE. OF INDIA\\nINCOME TAX DEPARTMENT = chs i',\n",
       " 'Saar fanart 3%\\n\\nCOMETAX DEPARTMENT\\nSOHANPAL SINGH TANWAR\\nRAMLAL TANWAR\\n\\n- 01/01/1985\\n\\n| Permanent Account Number\\n\\nCHXPS9046J',\n",
       " 'RAVI KUMAR SINHA Pr\\nCHANDRIKA PRASAD SINHA :\\n06/02/1976\\n\\nBJAPS5338B\\n\\nGg',\n",
       " 'a ete ei ence eee\\n\\n        \\n   \\n\\na\\n\\n \\n\\npata ea gh ine nd\\n\\n \\n\\n%\\n€\\n*\\nariel.\\n\\nap:\\n\\nares:',\n",
       " \"oes OVERNMENT/ORINDIA®\\n\\n| SRO PAR\\n} Suraj Kumar\\n\\noF fef€YDOB: 01/07/1979\\n3Pa/ MALE\\n\\n     \\n\\nTransport Department Government of NCT of Delhi\\nLicence to Drive Vehicles Throughout India\\n\\n  \\n\\nLicence No. : DL-0519990132095 (Cc) R\\nName : SURAJ KUMAR\\nS/W/D : SURESH CHAND\\n\\nDOB: 01/07/1979 BG: U\\n\\nAddress :\\nC-6/50 C BLOCK GALI NO 3 TO 10\\n\\nSABOLI EXTN,DELHI 110093\\n\\n \\n\\nAuth to Drive Date of Issue\\n\\nHTV 12/09/2011\\n\\nLMVCOM 15/09/2003 5\\n\\n3W-TSR 15/09/2003 (es 2\\n\\nM.CYL. 26/05/1999 ae\\n\\n(Holder's Signature)\\n\\nIssue Date : 09/06/2017 (Rp\\nValidity(NT) +: 30/06/2029 NONE ti\\nValidity(T) _: 08/06/2020 Issuing Authority\\nInv CarrNo : NA NEZ, LONI ROAD\",\n",
       " '',\n",
       " '',\n",
       " 'sree feast gf HIN UREN\\nINCOME TAX DEPARTMENT & GOVT. OF INDIA\\nSAMIR RAJJAK SAYYAD Z\\n\\n \\n\\nRAJJAK NOOR SAYYAD\\n19/01/1987\\nPermanent Account Number\\nBJHPS3124E E\\n! ©\\nSignature 3',\n",
       " 'a ee AL\\n, 45 Ness Py\\nSANA TE Tee\\nVf, Wwe yy,\\n\\nba iT my\\n\\nNON\\nRe\\n\\nied Evin rit\\na A q A ~,\\n\\n\\\\ kad\\n\\n \\n\\nENON\\n\\nNNN\\n2 Ms a\\n1) } ae f He\\niy iy il\\n\\ni\\n\\na\\nSuh\\nY (i - yi)\\n\\nhet',\n",
       " '',\n",
       " '',\n",
       " '',\n",
       " '‘9e9pZNdNNG\\n\\nsequny wunosay waueNiad\\n\\n6861/90/L0\\n\\nNIWOW WIHWH\\n\\nNIWOW WIH¥E NVBINI\\n\\nVIGNI 40 ‘LAOS INSWLAVGIC XVLINOONI\\nDice Paik = ici} 2dbteiee',\n",
       " '',\n",
       " '',\n",
       " '',\n",
       " '',\n",
       " 't ene (1)\\n\\n. Tey - 6\\né i (Prin 1e°T\\\\) eft)\\neho\\n\\nayer GVA A\\n\\nya / vet / aay a ;\\n\\nata fray oe\\n\\n   \\n\\nee SEs\\n\\na M ayo uy\\n\\n‘ PMNS / HY a\\n. (omrerara a FR oo ;\\n\\n;\\nwopennry wiferenne 1 iy\\ncae weet oH \\\\\\nwy are ow ar\\n\\nern wife2)\\n\\nays ‘4\\naw (S. |\\n\\n \\n\\nz\\nW: 4\\nfe 2\\n6?\\n. ~\\n\\n \\n\\nUK ‘| ‘92 kind, a\\n8 :\\n\\nea organs a ue wl fanfare\\nSTaa orgs VMN sitet diene\\n\\n. Cees aol # ae al ane A — — {\\n\\naint fay art a gn ot acai\\n\\nara eee “lth ce ony oh cel wee nb tee 1s ck eae g SA 4\\nAig frat frax ate ATES ,\\n\\nqa es q oH sooage eet IE ye ose eus Ken teed ie\\n\\nne rere aT i A ee)\\n(ate Be e)” « ec kour ee raid Hyax a con Ae eye 1 CMe\\noy Hy on savesererereeees ee ecapiaven yeh ay aM aug\" er\\ni ~ ¢ en ak afvaes ar te ee Se as\\ngteade Sah ongen Rennes \\\\ _ 2 waren\\ngra ei eae ~. } aretha aides a a S32. Cs\\nea alee a aig qa =\\nqa EE\". sfyara @1\\nee dos ae fe\\ns : are lan ate Yet bats\\n, ee .  aftaga am Ss\\nwae Ura Be Treg\\n\\notc “aan\\n40h} eras Rae a: ft\\nqalere ee\\n\\nana\\n\\nge \\'\\nrad WHE BRE. Bae',\n",
       " '',\n",
       " 'ah Transport Department Government of NCT of Delhi\\nRd Licence to Drive Vehicles Throughout India\\nLicence No. +: DL-1220080150S76 © §\\nnit Rome : MUJAVVIL ALT\\n. s/W/D : SHAUKAT ALI\\n8 _ DOB: 15/07/1980 BG: U\\n\" NN Address:\\nis —.Y —} P\\'S0 GREEN PARK MAIN, DELHI\\nte | 110016\\n; x\\n‘\\\\\\nAuth to Drive',\n",
       " '[Ee\\n\\nOF INDIA\\n\\nAD east cy\\nSunil Kumar R\\nPOB: 16-03-1986\\n\\nGender: Mate',\n",
       " 'aera es\\ncen sn\\n\\n \\n\\n-UON PUB\\n+ aimyny ul seoyses SURGES us N us |\\nv e\\nueUIUBAOS Buyjrere ut nydiey 24\\n\\n \\n\\nslJeeypey w\\n“7 Ryunoo auy jnoyBnosyy piles SIZeeUPeY m|\\n\\n  \\n\\ne acca mone |\\nme Kee saee r\\nAGUecaqoem Li 2\\nTRAUDIE perpseay eee Q3een ‘ORECR m\\n\\n“pone \"ume har eohhengin cena\\n\\n \\n\\n \\n\\n“Suto ere>NUELANE “AynUaD) Usiqeisa o Ls\\n* dtusuaznes yo JOU ‘Ainuap) 30 J00id gy Jeeupey =\\nNOLLVWo. IN}\\n\\ns0mR AIA wo “try\\n\\nPRED\\na x Sees ha o\\n\"ERP (eee anon . PAE\\nPRecs SPH pees, 4\\n\\n     \\n\\nUvHayy\\n\\nWG',\n",
       " '” s\\n~ z . . .\\nis ” * ¥ ’ : :\\n, ; - ¥ » , , ,\\nP ‘ $ ¥ > , .\\n, ‘ > : ‘ : :\\n’ . ’ : . : a 4\\n’ : ‘ . A 7\\n, ; ’ ¥ . :\\n: ’ ; , . : : 3\\n: : 5 ’ . ,\\n: : , , ‘ . : :\\n’ ; ’ : . : x ,\\n, ’ ‘ ‘ : : :\\n’ ’ : + ‘ i - ;\\n; . ’ + > . < :\\n; . > ; : ‘ :\\n: . ; : . 7 : ‘\\n’ ; + ; = 5 :\\n: ; ’ . ‘ - : 2\\n: : , ‘ ; : : 5\\n’ ’ > : . : :\\nis ; ; ‘ : : 5 ‘\\n; . ’ ‘ 4 % ‘ é\\n’ , ¥ , . ‘ . S %\\n, ’ : ’ ’ ; . 3\\n, ; ¥ .\\n: : :\\n¥ ;\\n\\n; T 4\\n| « INCOMETAX DEPARTMENE’ ~ Gi GOVT. OF FRDIA\\nSULAIMAN\\n\\n:\\n\\nIBRAHIM\\n\\n27/09/1990\\n\\nPermanent Account Number\\n\\n \\n\\nGGPPS5674P\\n\\nSignature (7\\n\\n \\n\\noa Jeena aca a berpeeiediaererson',\n",
       " 'son\\nDEPARTMENT @ GOVT.OF INDIA\\n-',\n",
       " 'INCOMETAX DEPARTMENT > GOVT.OF INDIA\\nM NAGARAJU\\nKISTAIAH\\n03/05/1993\\n\\nBDPM8059F',\n",
       " '',\n",
       " 'grade aeard\\nGovernment of India\\n\\nMuniraju M\\n\\n6244 2985 9700\\n\\nOA), Dave\\n\\n     \\n \\n\\n \\n\\nLe) ray PO a3\\nike Ut {\" i a\\n\\nrare aye i site\\n\\nPmt ~\\nuh: sat\\nfi ure be eu\\nASI al te ot\\n\\n \\n\\n2018.09.11 13:38',\n",
       " \".\\n\\nTransport Department Government of NCT of Delhi —\\n\\nLicence to Drive Vehicles Throughout India\\n\\nLi . + DL-1020030018396 (Cc) ag\\n| egy No. | NAVEEN KUMAR j\\nS/W’) : SH RAMESH KUMAR\\n\\nDOB: 30/10/1984 BG: U\\n\\nd :\\nPare; CLY MADI PUR NEW DELHI |\\n110063\\n\\n  \\n\\n \\n\\nAuth to Drive Date of Issue\\n\\nA s/f\\n\\nLM\\\\V-N\\n\\nLMVCOM 24/11/2009 ai\\nIssue Date; 08/12/2015 (Holder's Signature)\\nValidity(NT) + 09/06/2023 \\\\\\nValidity(T) : 07/12/2018 r\\nInv CarrNo : NA ssuing Authority\\n\\nWZ-II, RAJA GARDEN\",\n",
       " '',\n",
       " 'aa WH\\nGOVT. OF INDIA\\n\\nsree TAaNDt\\nINCOME TAX DEPARTMENT\\n\\nGIRIYAPPA\\nGUNDAPPA\\n\\n01/06/1975\\n\\nPermanent Account\\n\\nAWUPGO337L\\n\\nGadenel-\\n\\nSignature',\n",
       " 'PARA We\\n= GOYT.OF INDIA”\\n\\n1, AAT STs «tA Aas\\nINCOME TAX DEPARTMENT\\nK ARIF MOHIDEEN\\nMOHIDEEN KHADER\\n\\n \\n\\n07/06/1980',\n",
       " \"ELECTION coon OF INDIA\\n\\n             \\n \\n\\nIDENTITY CARD\\nOQpHw Cgtgd gq emerund\\n\\nGindaret gen_urer nen\\n\\nFTJ4304556\\n\\n \\n\\nElector's N\\nAN Eane\\nFather's Nar\\npeer\\n\\nSex / unde oa\\nAge as on 1.1\\n\\na 1.2006 gag)\\nj\",\n",
       " '',\n",
       " '',\n",
       " \"Pag eS aa\\n\\nINDIAN DRIVING LICENCI\\n\\n \\n\\n   \\n\\ni\\n%\\n\\nDL: BR-3120110012604\\nOriginal LA : DTC,VAISHALI\\nOldDLNo : |\\n\\nDate Of issue: 14-02-2015\\n\\n \\n \\n  \\n\\n'\\nt\\nb\",\n",
       " '',\n",
       " '',\n",
       " \".\\nt\\n4\\n\\n‘\\n\\n:\\n\\\\\\n\\n*\\n+ ‘\\n‘ \\\\\\n\\n \\n\\n'\\n\\n \\n\\n \\n\\n2008\\n\\nie,\\n\\n5\\n\\n  \\n\\n}\\na. F\\n\\n7 ;\\n\\n4\\n\\nf\\n\\n;\\n\\n \\n\\n \\n\\n  \\n \\n     \\n\\nD01548017M 1\",\n",
       " 'Stree fear 1h\\nINCOME TAX DEPARTMENT\\nARBIND YADAV\\n\\nAR Wyrepy\\nhe GOVT. OF INDIA\\n\\n((\\n%\\n\\n \\n\\n+ RAMPRASHAD YaDay\\n\\n05/02/1994\\n\\nPermanent Account Number\\n\\nALEPY9873C rf\\nAvhined\\n\\nSignature\\n\\n2014',\n",
       " 'sree ferst BE UR\\nINCOMETAK DEPARTMENT GOVT. OF INDIA\\nDADASAHEB BALIRAM KUMBHAR: ety',\n",
       " 'rae\\n\\nGOVT. OF INDIA >',\n",
       " 'GOVT. OF INDIA\\n\\nLaced NARAYANA VARANAS]\\n~ SHIVAIAH VARANASI',\n",
       " 'MOTOR VEHICLES DEPARTMENT\\n\\n \\n\\n   \\n\\n \\n\\n   \\n\\n      \\n\\n \\n\\n| REGIO Maharashtra:\\n| NAL TRANSPORT OFFICE,RTO- MUMBAI CENTRAL\\n| es ae FEE RECEIPT |\\nJame a — a\\nRance JITAN MANDAL Application NO 4460733817\\nloos KS/5463 Date / Time 28-12-2017 11.44.16. 345 \\\\\\n———— 10-12-1980 Mobile Ni #440953\\nS ee : lo **09\\nype:DL Reference No:MH01 200: aaa) Tf\\nmi unt in Rs. ; \\\\\\n| \\\\FORM-7 FEE ee a\\nPOSTAL CHARGES i288 |\\n112.99 |\\n50.00 |\\n\\nGRAND TOTAL(In Rs)\\n\\n \\n\\n; Paisa only)\\n\\n \\n\\nnd Ninety Nir\\n\\n \\n\\nd KADAM SWARANJALI SWAPNIL |\\nCASHIER\\n\\ned and Sinty Two RUPEES 4\\n\\n   \\n \\n\\n \\n\\nD NOT BE S| NED\\n\\n    \\n  \\n \\n\\n  \\n\\nCOMPUTER GENERA\\n\\n~ MOTOR VEHICLES DEPARTMENT\\nMaharashtra',\n",
       " '',\n",
       " '',\n",
       " \"sireteee fenarsy\\nINCOME TAX DEPARTMENT\\nAMARNA TH\\n\\nSAKE LAKSHmI NARAYAN\\n08/06/1983\\n\\nPermanent Account Number\\n\\nAWVPA0775p\\n\\nSignature\\n\\n \\n\\na\\n+ : : Pert\\nr at a? Te ae\\nVin dec ee ey\\nay 1. + yi .\\nHi'* the Ty Z\\nPe pay * vam\\n\\nARA Grea\\n\\n  \\n\\n12052011\",\n",
       " '',\n",
       " 'Sia fay AIC TER\\nINCOME TAX DepaRng e GOVT. OF INDIA 4\\n\\nMOHAMMED AMA) Pee\\n; To\\nAFZAL MOHAMMEn et\\nUeaee\\n% 2\\n28M2N978 ire:\\nPermanent Account Numer\\nCZJPM1779E\\n\\noa -\\n\\n,\\n\\nspaoz2016',\n",
       " 'ana Wey\\n\\nGOVT. OF INDIA \\\\\\nem\\n\\ni\\n\\n  \\n\\nSS',\n",
       " 'i >\\nts Stee Ferra\\n4 icone tay DEPARTMENT\\n\\nNAGARAJU s',\n",
       " 'VIGNI AO ‘LAOO £\\n0 it\\n\\npidoakh Balke ielkete}',\n",
       " '',\n",
       " '',\n",
       " '',\n",
       " '',\n",
       " 'INCOME TAX DEPARTMENT GOVT. OF INDIA\\n\\nMOHD NOOH\\nMOHD ISMAIL\\n\\n07/06/1992\\n\\nN per\\n\\nAMGPNO354G\\n\\ninhi',\n",
       " 'pal Lh A\\n\\nCOVE. OF INDIA',\n",
       " 'Siete Taant\\nINCOME TAX DEPARTMENT\\nMADAN SHARMA\\n\\n  \\n       \\n   \\n \\n    \\n\\nGOVE: OF INDIA\\n\\n2 ee yy\\n\\n     \\n\\nKISHOR SHARMA\\n\\n4 7107/15 987\\n\\nPerma nent Account Number',\n",
       " ': \" as =\\n5 Rae ee P to\\nee ee\\n\\nOL-0520030294601 —¢¢j\\nMAYANK BHA\\nLN BHARDWay\\n\\nDOB: 04/03/1974 BG: U\\nAddress :\\n\\n5 2S ARJUN MOHALA MAUJPUR,DELHI\\n110053 :\\n\\n                       \\n            \\n\\nAuth to Drive ate of Issue\\nW-TSR 7/10/2016\\nMVCOM 07/10/2016\\nMYV-NT 20/12/2003\\nMmeCY 20/12/2003\\n(Holder\\'s\\nIssue Vate ; * Z\\nValidity. |. 6 AVL NEZ, LONE\\nInv Carr No P',\n",
       " 'ee ce ee ea eani',\n",
       " '',\n",
       " '',\n",
       " 'INCOMETAXDEPARTMENT = <:: GOVT. OFINDIA\\n\\n \\n\\n  \\n \\n \\n\\nUf IF\\n\\n \\n\\n24012012',\n",
       " '',\n",
       " '',\n",
       " 'sTaax fart 4 ARA aa\\nJ GOVT. OF INDIA\\n\\nINCOME TAX DEPARTMENT\\nATMARAM RAMDAS KOKATE\\n\\nRAMDAS DHONDIBA KOKATE\\n14/05/1967\\n\\nPermanent Account Number\\n\\nAPGPK5004F\\n\\nay\\n\\nSignature',\n",
       " '<< ee = © = © 6 © ie es',\n",
       " '']"
      ]
     },
     "execution_count": 51,
     "metadata": {},
     "output_type": "execute_result"
    }
   ],
   "source": [
    "l"
   ]
  },
  {
   "cell_type": "code",
   "execution_count": 57,
   "metadata": {},
   "outputs": [],
   "source": [
    "def remove(x):\n",
    "    for i in x:\n",
    "        if any( [i=='' or i==' ' or i=='  ' or i=='   '] ):\n",
    "            x.remove(i)\n",
    "    print(i)"
   ]
  },
  {
   "cell_type": "code",
   "execution_count": 64,
   "metadata": {},
   "outputs": [],
   "source": [
    "reslist=[]\n",
    "def result(x):\n",
    "    for i in x:\n",
    "        if(i.find(\" Account\") != -1):\n",
    "            r=x.index(i)+1\n",
    "            a=x[r][:10]\n",
    "            reslist.append(a)\n",
    "            print('success ',a)\n",
    "        else:\n",
    "            print('noisy data')"
   ]
  },
  {
   "cell_type": "code",
   "execution_count": 65,
   "metadata": {},
   "outputs": [
    {
     "name": "stdout",
     "output_type": "stream",
     "text": [
      "> rome\n",
      "ee ‘Tetras\n",
      "noisy data\n",
      "noisy data\n",
      "noisy data\n",
      "noisy data\n",
      " \n",
      "noisy data\n",
      "noisy data\n",
      "noisy data\n",
      "noisy data\n",
      "noisy data\n",
      "noisy data\n",
      "\n",
      "|\n",
      "2\n",
      "!\n",
      "i\n",
      "noisy data\n",
      "noisy data\n",
      "Signature\n",
      "noisy data\n",
      "noisy data\n",
      "noisy data\n",
      "success    \n",
      "    \n",
      "noisy data\n",
      "noisy data\n",
      "noisy data\n",
      "BFDPP7756K\n",
      "noisy data\n",
      "noisy data\n",
      "noisy data\n",
      "noisy data\n",
      "noisy data\n",
      "success  BFDPP7756K\n",
      "noisy data\n",
      "Permanent Account Number .\n",
      "noisy data\n",
      "noisy data\n"
     ]
    },
    {
     "ename": "IndexError",
     "evalue": "list index out of range",
     "output_type": "error",
     "traceback": [
      "\u001b[1;31m---------------------------------------------------------------------------\u001b[0m",
      "\u001b[1;31mIndexError\u001b[0m                                Traceback (most recent call last)",
      "\u001b[1;32m<ipython-input-65-f979ad9a3628>\u001b[0m in \u001b[0;36m<module>\u001b[1;34m()\u001b[0m\n\u001b[0;32m      2\u001b[0m     \u001b[0ml1\u001b[0m\u001b[1;33m=\u001b[0m\u001b[0mlist\u001b[0m\u001b[1;33m(\u001b[0m\u001b[0mi\u001b[0m\u001b[1;33m.\u001b[0m\u001b[0msplit\u001b[0m\u001b[1;33m(\u001b[0m\u001b[1;34m'\\n\\n'\u001b[0m\u001b[1;33m)\u001b[0m\u001b[1;33m)\u001b[0m\u001b[1;33m\u001b[0m\u001b[0m\n\u001b[0;32m      3\u001b[0m     \u001b[0mremove\u001b[0m\u001b[1;33m(\u001b[0m\u001b[0ml1\u001b[0m\u001b[1;33m)\u001b[0m\u001b[1;33m\u001b[0m\u001b[0m\n\u001b[1;32m----> 4\u001b[1;33m     \u001b[0mresult\u001b[0m\u001b[1;33m(\u001b[0m\u001b[0ml1\u001b[0m\u001b[1;33m)\u001b[0m\u001b[1;33m\u001b[0m\u001b[0m\n\u001b[0m",
      "\u001b[1;32m<ipython-input-64-b864d2a9b307>\u001b[0m in \u001b[0;36mresult\u001b[1;34m(x)\u001b[0m\n\u001b[0;32m      4\u001b[0m         \u001b[1;32mif\u001b[0m\u001b[1;33m(\u001b[0m\u001b[0mi\u001b[0m\u001b[1;33m.\u001b[0m\u001b[0mfind\u001b[0m\u001b[1;33m(\u001b[0m\u001b[1;34m\" Account\"\u001b[0m\u001b[1;33m)\u001b[0m \u001b[1;33m!=\u001b[0m \u001b[1;33m-\u001b[0m\u001b[1;36m1\u001b[0m\u001b[1;33m)\u001b[0m\u001b[1;33m:\u001b[0m\u001b[1;33m\u001b[0m\u001b[0m\n\u001b[0;32m      5\u001b[0m             \u001b[0mr\u001b[0m\u001b[1;33m=\u001b[0m\u001b[0mx\u001b[0m\u001b[1;33m.\u001b[0m\u001b[0mindex\u001b[0m\u001b[1;33m(\u001b[0m\u001b[0mi\u001b[0m\u001b[1;33m)\u001b[0m\u001b[1;33m+\u001b[0m\u001b[1;36m1\u001b[0m\u001b[1;33m\u001b[0m\u001b[0m\n\u001b[1;32m----> 6\u001b[1;33m             \u001b[0ma\u001b[0m\u001b[1;33m=\u001b[0m\u001b[0mx\u001b[0m\u001b[1;33m[\u001b[0m\u001b[0mr\u001b[0m\u001b[1;33m]\u001b[0m\u001b[1;33m[\u001b[0m\u001b[1;33m:\u001b[0m\u001b[1;36m10\u001b[0m\u001b[1;33m]\u001b[0m\u001b[1;33m\u001b[0m\u001b[0m\n\u001b[0m\u001b[0;32m      7\u001b[0m             \u001b[0mreslist\u001b[0m\u001b[1;33m.\u001b[0m\u001b[0mappend\u001b[0m\u001b[1;33m(\u001b[0m\u001b[0ma\u001b[0m\u001b[1;33m)\u001b[0m\u001b[1;33m\u001b[0m\u001b[0m\n\u001b[0;32m      8\u001b[0m             \u001b[0mprint\u001b[0m\u001b[1;33m(\u001b[0m\u001b[1;34m'success '\u001b[0m\u001b[1;33m,\u001b[0m\u001b[0ma\u001b[0m\u001b[1;33m)\u001b[0m\u001b[1;33m\u001b[0m\u001b[0m\n",
      "\u001b[1;31mIndexError\u001b[0m: list index out of range"
     ]
    }
   ],
   "source": [
    "for i in l:\n",
    "    l1=list(i.split('\\n\\n'))\n",
    "    remove(l1)\n",
    "    result(l1)"
   ]
  },
  {
   "cell_type": "code",
   "execution_count": 63,
   "metadata": {},
   "outputs": [
    {
     "data": {
      "text/plain": [
       "['  \\n    ', 'BFDPP7756K']"
      ]
     },
     "execution_count": 63,
     "metadata": {},
     "output_type": "execute_result"
    }
   ],
   "source": [
    "reslist"
   ]
  },
  {
   "cell_type": "code",
   "execution_count": null,
   "metadata": {},
   "outputs": [],
   "source": []
  },
  {
   "cell_type": "code",
   "execution_count": null,
   "metadata": {},
   "outputs": [],
   "source": []
  },
  {
   "cell_type": "code",
   "execution_count": null,
   "metadata": {},
   "outputs": [],
   "source": []
  },
  {
   "cell_type": "markdown",
   "metadata": {},
   "source": [
    "# Another way"
   ]
  },
  {
   "cell_type": "code",
   "execution_count": 47,
   "metadata": {},
   "outputs": [
    {
     "data": {
      "text/plain": [
       "'{ 2LNe. As3 20060000797 301 2ainar2008, rort-7\\nNAME BHARATH N {See Rule 1602,\\n| 208 16/11/1986 BS.\\nVALID TILL 23/04/2026(NT) 06/01/2019(TR)\\n| BADGENO 3692\\n| | V SHOUT INDIA 9\\n0812008 3\\nsi04/2008 =\\n811112006 z\\n3\\n2\\nSlo NARAYANA SWAY =\\nADDRESS . #86, KANAKADAS ROAD, KALKERE VILLAGE,\\nHORAMAVU POST, BANGALORE 560043\\nSign. Of Holder Sign. Licencing Authority\\n\\n \\n\\n R PURAM BLORE'"
      ]
     },
     "execution_count": 47,
     "metadata": {},
     "output_type": "execute_result"
    }
   ],
   "source": [
    "l[1]"
   ]
  },
  {
   "cell_type": "markdown",
   "metadata": {},
   "source": [
    "img=Image.open(r\"C:\\Users\\saipriya\\Downloads\\11.jpg\")\n",
    "text=image_to_string(img)"
   ]
  },
  {
   "cell_type": "code",
   "execution_count": 4,
   "metadata": {},
   "outputs": [
    {
     "name": "stdout",
     "output_type": "stream",
     "text": [
      "INCOME TAX DEPARTMENT “2 GOVT. OF INDIA\n",
      "GOKA SAIPRIYA REDDY CF og 7.\n",
      "\n",
      " \n",
      "\n",
      "      \n",
      "\n",
      "MAHENDER REDDY GOKA\n",
      "\n",
      "27/08/1995\n",
      "Permanent Account Number\n",
      "\n",
      "BXNPG6770Q ay\n",
      "6 eopadys. =:\n",
      "\n",
      "Signature\n",
      "\n",
      "18102016,\n",
      "\n",
      "5\n"
     ]
    }
   ],
   "source": [
    "print(text)"
   ]
  },
  {
   "cell_type": "code",
   "execution_count": 15,
   "metadata": {},
   "outputs": [
    {
     "data": {
      "text/plain": [
       "['INCOME TAX DEPARTMENT “2 GOVT. OF INDIA',\n",
       " 'GOKA SAIPRIYA REDDY CF og 7.',\n",
       " '',\n",
       " ' ',\n",
       " '',\n",
       " '      ',\n",
       " '',\n",
       " 'MAHENDER REDDY GOKA',\n",
       " '',\n",
       " '27/08/1995',\n",
       " 'Permanent Account Number',\n",
       " '',\n",
       " 'BXNPG6770Q ay',\n",
       " '6 eopadys. =:',\n",
       " '',\n",
       " 'Signature',\n",
       " '',\n",
       " '18102016,',\n",
       " '',\n",
       " '5']"
      ]
     },
     "execution_count": 15,
     "metadata": {},
     "output_type": "execute_result"
    }
   ],
   "source": [
    "a=list(text.split('\\n'))\n",
    "a"
   ]
  },
  {
   "cell_type": "code",
   "execution_count": 21,
   "metadata": {},
   "outputs": [
    {
     "data": {
      "text/plain": [
       "['INCOME TAX DEPARTMENT “2 GOVT. OF INDIA',\n",
       " 'GOKA SAIPRIYA REDDY CF og 7.',\n",
       " ' ',\n",
       " '      ',\n",
       " 'MAHENDER REDDY GOKA',\n",
       " '27/08/1995',\n",
       " 'Permanent Account Number',\n",
       " 'BXNPG6770Q ay',\n",
       " '6 eopadys. =:',\n",
       " 'Signature',\n",
       " '18102016,',\n",
       " '5']"
      ]
     },
     "execution_count": 21,
     "metadata": {},
     "output_type": "execute_result"
    }
   ],
   "source": [
    "for i in a:\n",
    "    if i == '':\n",
    "        a.remove(i)\n",
    "l"
   ]
  },
  {
   "cell_type": "code",
   "execution_count": 24,
   "metadata": {},
   "outputs": [
    {
     "name": "stdout",
     "output_type": "stream",
     "text": [
      "BXNPG6770Q\n"
     ]
    }
   ],
   "source": [
    "for i in a:\n",
    "    if(i.find(\"Permanent Account Number\") != -1):\n",
    "        r=a.index(i)+1\n",
    "        print(a[r][:10])"
   ]
  },
  {
   "cell_type": "code",
   "execution_count": null,
   "metadata": {},
   "outputs": [],
   "source": []
  }
 ],
 "metadata": {
  "kernelspec": {
   "display_name": "Python 3",
   "language": "python",
   "name": "python3"
  },
  "language_info": {
   "codemirror_mode": {
    "name": "ipython",
    "version": 3
   },
   "file_extension": ".py",
   "mimetype": "text/x-python",
   "name": "python",
   "nbconvert_exporter": "python",
   "pygments_lexer": "ipython3",
   "version": "3.6.5"
  }
 },
 "nbformat": 4,
 "nbformat_minor": 2
}
