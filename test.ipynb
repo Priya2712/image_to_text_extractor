{
 "cells": [
  {
   "cell_type": "code",
   "execution_count": 39,
   "metadata": {},
   "outputs": [],
   "source": [
    "from PIL import Image\n",
    "from pytesseract import image_to_string\n",
    "import cv2"
   ]
  },
  {
   "cell_type": "code",
   "execution_count": 33,
   "metadata": {},
   "outputs": [],
   "source": [
    "img_obj=cv2.imread(r\"C:\\Users\\saipriya\\Downloads\\pan1.jpg\")\n",
    "gray=cv2.cvtColor(img_obj, cv2.COLOR_BGR2GRAY)\n",
    "\n",
    "\n",
    "ret1,gray1=cv2.threshold(gray,127,255,cv2.THRESH_BINARY)\n",
    "\n",
    "\n",
    "gray2 = cv2.threshold(gray, 0, 255, cv2.THRESH_BINARY | cv2.THRESH_OTSU)[1]\n",
    "\n",
    "\n",
    "blur = cv2.GaussianBlur(gray,(5,5),0)\n",
    "ret3,gray3= cv2.threshold(blur,0,255,cv2.THRESH_BINARY+cv2.THRESH_OTSU)\n",
    "\n",
    "\n",
    "cv2.imwrite(r\"C:\\Users\\saipriya\\Downloads\\img1.jpg\",gray)\n",
    "cv2.imwrite(r\"C:\\Users\\saipriya\\Downloads\\img2.jpg\",gray1)\n",
    "cv2.imwrite(r\"C:\\Users\\saipriya\\Downloads\\img3.jpg\",gray2)\n",
    "cv2.imwrite(r\"C:\\Users\\saipriya\\Downloads\\img4.jpg\",gray3)\n",
    "\n",
    "text1=image_to_string(Image.open(r\"C:\\Users\\saipriya\\Downloads\\img1.jpg\"))\n",
    "text2=image_to_string(Image.open(r\"C:\\Users\\saipriya\\Downloads\\img2.jpg\"))\n",
    "text3=image_to_string(Image.open(r\"C:\\Users\\saipriya\\Downloads\\img3.jpg\"))\n",
    "text4=image_to_string(Image.open(r\"C:\\Users\\saipriya\\Downloads\\img4.jpg\"))"
   ]
  },
  {
   "cell_type": "code",
   "execution_count": 34,
   "metadata": {},
   "outputs": [
    {
     "name": "stdout",
     "output_type": "stream",
     "text": [
      "INCOME TAX DEPARTMENT “2 GOVT. OF INDIA\n",
      "GOKA SAIPRIYA REDDY CF og 7.\n",
      "\n",
      " \n",
      "\n",
      "      \n",
      "\n",
      "MAHENDER REDDY GOKA\n",
      "\n",
      "27/08/1995\n",
      "Permanent Account Number\n",
      "\n",
      "BXNPG6770Q ay\n",
      "6 eopadys. =:\n",
      "\n",
      "Signature\n",
      "\n",
      "18102016,\n",
      "\n",
      "5\n"
     ]
    }
   ],
   "source": [
    "print(text1)"
   ]
  },
  {
   "cell_type": "code",
   "execution_count": 35,
   "metadata": {},
   "outputs": [
    {
     "name": "stdout",
     "output_type": "stream",
     "text": [
      "‘were Test\n",
      "INCOME TAX DEPARTMENT\n",
      "GOKA SAIPRIYA REDDY\n",
      "\n",
      "MAHENDER REDDY GOKA\n",
      "\n",
      "27/08/1995\n",
      "\n",
      "Pormanent acucunt Number\n",
      "\n",
      "BXNPG6770Q\n",
      "\n",
      "6 epaie.\n",
      "\n",
      "Signature\n",
      "\n",
      "YN AV\n",
      "GOVT. OF INBIA\n"
     ]
    }
   ],
   "source": [
    "print(text2)"
   ]
  },
  {
   "cell_type": "code",
   "execution_count": 36,
   "metadata": {},
   "outputs": [
    {
     "name": "stdout",
     "output_type": "stream",
     "text": [
      "Baer faant @ ARd wer\n",
      "INCOME TAX DEPARTMENT = > GOVT. OF INDIA\n",
      "GOKA SAIPRIYA REDDY\n",
      "\n",
      "    \n",
      "\n",
      "EPI Is\n",
      "7\n",
      "MAHENDER REDDY GOKA\n",
      "\n",
      "27/08/1995\n",
      "Permanent Account Number\n",
      "\n",
      "BXNPG6770Q\n",
      "\n",
      "G depaly.\n",
      "\n",
      "Signature\n",
      "\n",
      "18102016\n"
     ]
    }
   ],
   "source": [
    "print(text3)"
   ]
  },
  {
   "cell_type": "code",
   "execution_count": 37,
   "metadata": {},
   "outputs": [
    {
     "name": "stdout",
     "output_type": "stream",
     "text": [
      "Bere fast ogy Aa\n",
      "\n",
      "INCOME TAX DEPARTMENT ~ GOVT. OF INDIA\n",
      "GOKA SAIPRIYA REDDY gS.\n",
      "ee\n",
      "MAHENDER REODY GOKA 2 x 2A\n",
      "271081995 Lye\n",
      "Permanent Account Number\n",
      "BXNPG6770Q\n",
      "\n",
      "geen\n",
      "\n",
      "16102016.\n"
     ]
    }
   ],
   "source": [
    "print(text4)"
   ]
  },
  {
   "cell_type": "markdown",
   "metadata": {},
   "source": [
    "# medianBlur"
   ]
  },
  {
   "cell_type": "code",
   "execution_count": 48,
   "metadata": {},
   "outputs": [],
   "source": [
    "img_obj=cv2.imread(r\"C:\\Users\\saipriya\\Downloads\\pan1.jpg\")\n",
    "gray=cv2.cvtColor(img_obj, cv2.COLOR_BGR2GRAY)\n",
    "grayy = cv2.medianBlur(gray, 3)\n",
    "cv2.imwrite(r\"C:\\Users\\saipriya\\Downloads\\i.jpg\",grayy)\n",
    "text=image_to_string(Image.open(r\"C:\\Users\\saipriya\\Downloads\\i.jpg\"))"
   ]
  },
  {
   "cell_type": "code",
   "execution_count": 49,
   "metadata": {},
   "outputs": [
    {
     "name": "stdout",
     "output_type": "stream",
     "text": [
      "sizer fart @ ANA aver\n",
      "INCOME TAX DEPARTMENT > GOVT. OF INDIA\n",
      "GOKA SAIPRIYA REDDY 7 G5\n",
      "\n",
      "   \n",
      "\n",
      "oer.\n",
      "MAHENDER REDDY GOKA\n",
      "27/08/1995\n",
      "\n",
      "Permanent Account Number\n",
      "BXNPG6770Q\n",
      "\n",
      "6 pra.\n",
      "\n",
      "Signature\n",
      "\n",
      "18102016\n"
     ]
    }
   ],
   "source": [
    "print(text)"
   ]
  },
  {
   "cell_type": "code",
   "execution_count": null,
   "metadata": {},
   "outputs": [],
   "source": []
  },
  {
   "cell_type": "code",
   "execution_count": null,
   "metadata": {},
   "outputs": [],
   "source": []
  }
 ],
 "metadata": {
  "kernelspec": {
   "display_name": "Python 3",
   "language": "python",
   "name": "python3"
  },
  "language_info": {
   "codemirror_mode": {
    "name": "ipython",
    "version": 3
   },
   "file_extension": ".py",
   "mimetype": "text/x-python",
   "name": "python",
   "nbconvert_exporter": "python",
   "pygments_lexer": "ipython3",
   "version": "3.6.5"
  }
 },
 "nbformat": 4,
 "nbformat_minor": 2
}
