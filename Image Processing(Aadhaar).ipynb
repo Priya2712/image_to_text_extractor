{
 "cells": [
  {
   "cell_type": "code",
   "execution_count": 21,
   "metadata": {},
   "outputs": [],
   "source": [
    "from PIL import Image\n",
    "from pytesseract import image_to_string\n",
    "import cv2"
   ]
  },
  {
   "cell_type": "code",
   "execution_count": 98,
   "metadata": {},
   "outputs": [
    {
     "data": {
      "text/plain": [
       "True"
      ]
     },
     "execution_count": 98,
     "metadata": {},
     "output_type": "execute_result"
    }
   ],
   "source": [
    "img_obj=cv2.imread(r\"C:\\Users\\saipriya\\Desktop\\task\\taskAadhaar_Photo\\img8.jpg\")\n",
    "gray=cv2.cvtColor(img_obj, cv2.COLOR_BGR2GRAY)\n",
    "cv2.imwrite(r\"C:\\Users\\saipriya\\Downloads\\im6.jpg\",gray)"
   ]
  },
  {
   "cell_type": "code",
   "execution_count": 101,
   "metadata": {},
   "outputs": [],
   "source": [
    "\n",
    "text=image_to_string(Image.open(r\"C:\\Users\\saipriya\\Downloads\\im6.jpg\"))"
   ]
  },
  {
   "cell_type": "code",
   "execution_count": 102,
   "metadata": {},
   "outputs": [
    {
     "name": "stdout",
     "output_type": "stream",
     "text": [
      "8590 2815 7569 _\n",
      "\n",
      "_ aa, MoS\n"
     ]
    }
   ],
   "source": [
    "print(text)"
   ]
  },
  {
   "cell_type": "markdown",
   "metadata": {},
   "source": [
    "# One Way"
   ]
  },
  {
   "cell_type": "code",
   "execution_count": 4,
   "metadata": {},
   "outputs": [
    {
     "data": {
      "text/plain": [
       "['Sach (SéoSogg /Enrolment No.',\n",
       " ' 1079/00038/01637\\n\\nTo\\n\\n',\n",
       " \"  Goka Sai Priya\\n(A's 20 Rav)\\nD/O Late Mahendgar Ready\\n44-427\\nBhukthapur\\nBhukthapur\\nAdilabad\\nAdilabad\\nAndhra Pradesh - 504001\\n\\nEY 08448783 7 iN Ref. No \",\n",
       " ' 06062011-10346\\n\\nDate',\n",
       " ' 06/06/2011\\n\\n \\n\\n> eaqpS omg / Your Aadhaar No. ',\n",
       " '\\n\\n2801 8649 7841\\nqd - PsN sry\\n\\n \\n\\n| As Son Qa\\n\\n_ Goka Sai Priya\\n\\n_ 88',\n",
       " '88 08) son\\n\\n- Mother ',\n",
       " ' Goka Laxmi Bai\\n\\n> %gye Roddy So / Year of Birth ',\n",
       " ' 1995\\n\\ns 2 Female\\n+ 2601 se49 7841 [IH IMN HH Ml']"
      ]
     },
     "execution_count": 4,
     "metadata": {},
     "output_type": "execute_result"
    }
   ],
   "source": [
    "l =list(text.split(':'))\n",
    "l"
   ]
  },
  {
   "cell_type": "code",
   "execution_count": 5,
   "metadata": {},
   "outputs": [],
   "source": [
    "new=[]\n",
    "for i in l:\n",
    "    if (i.find('\\n\\n')!= -1):\n",
    "        j = i.split('\\n\\n')\n",
    "        for a in j:\n",
    "            new.append(a)\n",
    "    else:\n",
    "        new.append(i)"
   ]
  },
  {
   "cell_type": "markdown",
   "metadata": {},
   "source": [
    "Find():\n",
    "returns the lowest index of the substring if it is found in given string. If it’s not found then it returns -1."
   ]
  },
  {
   "cell_type": "code",
   "execution_count": 6,
   "metadata": {},
   "outputs": [
    {
     "data": {
      "text/plain": [
       "['Sach (SéoSogg /Enrolment No.',\n",
       " ' 1079/00038/01637',\n",
       " 'To',\n",
       " '',\n",
       " \"  Goka Sai Priya\\n(A's 20 Rav)\\nD/O Late Mahendgar Ready\\n44-427\\nBhukthapur\\nBhukthapur\\nAdilabad\\nAdilabad\\nAndhra Pradesh - 504001\",\n",
       " 'EY 08448783 7 iN Ref. No ',\n",
       " ' 06062011-10346',\n",
       " 'Date',\n",
       " ' 06/06/2011',\n",
       " ' ',\n",
       " '> eaqpS omg / Your Aadhaar No. ',\n",
       " '',\n",
       " '2801 8649 7841\\nqd - PsN sry',\n",
       " ' ',\n",
       " '| As Son Qa',\n",
       " '_ Goka Sai Priya',\n",
       " '_ 88',\n",
       " '88 08) son',\n",
       " '- Mother ',\n",
       " ' Goka Laxmi Bai',\n",
       " '> %gye Roddy So / Year of Birth ',\n",
       " ' 1995',\n",
       " 's 2 Female\\n+ 2601 se49 7841 [IH IMN HH Ml']"
      ]
     },
     "execution_count": 6,
     "metadata": {},
     "output_type": "execute_result"
    }
   ],
   "source": [
    "new"
   ]
  },
  {
   "cell_type": "code",
   "execution_count": 7,
   "metadata": {},
   "outputs": [],
   "source": [
    "for i in new:\n",
    "    if i=='' or i==' ':\n",
    "        new.remove(i)"
   ]
  },
  {
   "cell_type": "code",
   "execution_count": 8,
   "metadata": {},
   "outputs": [
    {
     "data": {
      "text/plain": [
       "['Sach (SéoSogg /Enrolment No.',\n",
       " ' 1079/00038/01637',\n",
       " 'To',\n",
       " \"  Goka Sai Priya\\n(A's 20 Rav)\\nD/O Late Mahendgar Ready\\n44-427\\nBhukthapur\\nBhukthapur\\nAdilabad\\nAdilabad\\nAndhra Pradesh - 504001\",\n",
       " 'EY 08448783 7 iN Ref. No ',\n",
       " ' 06062011-10346',\n",
       " 'Date',\n",
       " ' 06/06/2011',\n",
       " '> eaqpS omg / Your Aadhaar No. ',\n",
       " '2801 8649 7841\\nqd - PsN sry',\n",
       " '| As Son Qa',\n",
       " '_ Goka Sai Priya',\n",
       " '_ 88',\n",
       " '88 08) son',\n",
       " '- Mother ',\n",
       " ' Goka Laxmi Bai',\n",
       " '> %gye Roddy So / Year of Birth ',\n",
       " ' 1995',\n",
       " 's 2 Female\\n+ 2601 se49 7841 [IH IMN HH Ml']"
      ]
     },
     "execution_count": 8,
     "metadata": {},
     "output_type": "execute_result"
    }
   ],
   "source": [
    "new"
   ]
  },
  {
   "cell_type": "code",
   "execution_count": 9,
   "metadata": {},
   "outputs": [
    {
     "data": {
      "text/plain": [
       "{'Sach (SéoSogg /Enrolment No.': ' 1079/00038/01637',\n",
       " 'To': \"  Goka Sai Priya\\n(A's 20 Rav)\\nD/O Late Mahendgar Ready\\n44-427\\nBhukthapur\\nBhukthapur\\nAdilabad\\nAdilabad\\nAndhra Pradesh - 504001\",\n",
       " 'EY 08448783 7 iN Ref. No ': ' 06062011-10346',\n",
       " 'Date': ' 06/06/2011',\n",
       " '> eaqpS omg / Your Aadhaar No. ': '2801 8649 7841\\nqd - PsN sry',\n",
       " '| As Son Qa': '_ Goka Sai Priya',\n",
       " '_ 88': '88 08) son',\n",
       " '- Mother ': ' Goka Laxmi Bai',\n",
       " '> %gye Roddy So / Year of Birth ': ' 1995'}"
      ]
     },
     "execution_count": 9,
     "metadata": {},
     "output_type": "execute_result"
    }
   ],
   "source": [
    "d = dict(zip(new[::2] , new[1::2]))\n",
    "d"
   ]
  },
  {
   "cell_type": "code",
   "execution_count": 10,
   "metadata": {},
   "outputs": [
    {
     "data": {
      "text/plain": [
       "'2801 8649 7841'"
      ]
     },
     "execution_count": 10,
     "metadata": {},
     "output_type": "execute_result"
    }
   ],
   "source": [
    "d['> eaqpS omg / Your Aadhaar No. '][:14]"
   ]
  },
  {
   "cell_type": "markdown",
   "metadata": {},
   "source": [
    "# Another Way"
   ]
  },
  {
   "cell_type": "code",
   "execution_count": 41,
   "metadata": {},
   "outputs": [
    {
     "data": {
      "text/plain": [
       "['Naveen V',\n",
       " '30 dar / Year of Birth : 1986',\n",
       " 'wwe / Male',\n",
       " '',\n",
       " '  ',\n",
       " '   ',\n",
       " ' ',\n",
       " '',\n",
       " '8015 7911 9691',\n",
       " 'oo - & emoadien, x3 ‘and']"
      ]
     },
     "execution_count": 41,
     "metadata": {},
     "output_type": "execute_result"
    }
   ],
   "source": [
    "l1=list(text.split('\\n'))\n",
    "l1"
   ]
  },
  {
   "cell_type": "code",
   "execution_count": 46,
   "metadata": {},
   "outputs": [],
   "source": [
    "for i in l1:\n",
    "    if any( [i=='' or i==' ' or i=='  ' or i=='   '] ):\n",
    "        l1.remove(i)"
   ]
  },
  {
   "cell_type": "code",
   "execution_count": 47,
   "metadata": {},
   "outputs": [
    {
     "data": {
      "text/plain": [
       "['Naveen V',\n",
       " '30 dar / Year of Birth : 1986',\n",
       " 'wwe / Male',\n",
       " '8015 7911 9691',\n",
       " 'oo - & emoadien, x3 ‘and']"
      ]
     },
     "execution_count": 47,
     "metadata": {},
     "output_type": "execute_result"
    }
   ],
   "source": [
    "l1"
   ]
  },
  {
   "cell_type": "code",
   "execution_count": 37,
   "metadata": {},
   "outputs": [],
   "source": [
    "for i in l1:\n",
    "    if (i.find(\"Male\") != -1 ):\n",
    "        r = l1.index(i)+1\n",
    "        a=list(l1[r][:14])"
   ]
  },
  {
   "cell_type": "code",
   "execution_count": 38,
   "metadata": {},
   "outputs": [
    {
     "data": {
      "text/plain": [
       "['8', '0', '1', '5', ' ', '7', '9', '1', '1', ' ', '9', '6', '9', '1']"
      ]
     },
     "execution_count": 38,
     "metadata": {},
     "output_type": "execute_result"
    }
   ],
   "source": [
    "a"
   ]
  },
  {
   "cell_type": "code",
   "execution_count": 39,
   "metadata": {},
   "outputs": [],
   "source": [
    "for i in a:\n",
    "    if(i == ' '):\n",
    "        a.remove(i)"
   ]
  },
  {
   "cell_type": "code",
   "execution_count": 40,
   "metadata": {},
   "outputs": [
    {
     "data": {
      "text/plain": [
       "'801579119691'"
      ]
     },
     "execution_count": 40,
     "metadata": {},
     "output_type": "execute_result"
    }
   ],
   "source": [
    "a=\"\".join(a)\n",
    "a"
   ]
  },
  {
   "cell_type": "code",
   "execution_count": null,
   "metadata": {},
   "outputs": [],
   "source": []
  }
 ],
 "metadata": {
  "kernelspec": {
   "display_name": "Python 3",
   "language": "python",
   "name": "python3"
  },
  "language_info": {
   "codemirror_mode": {
    "name": "ipython",
    "version": 3
   },
   "file_extension": ".py",
   "mimetype": "text/x-python",
   "name": "python",
   "nbconvert_exporter": "python",
   "pygments_lexer": "ipython3",
   "version": "3.6.5"
  }
 },
 "nbformat": 4,
 "nbformat_minor": 2
}
